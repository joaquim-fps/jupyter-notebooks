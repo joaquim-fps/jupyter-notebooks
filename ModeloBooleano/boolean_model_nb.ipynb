{
 "cells": [
  {
   "cell_type": "markdown",
   "metadata": {},
   "source": [
    "# Exercício (28/03)\n",
    "\n",
    "**Arquivos:**\n",
    " - xadrez.txt = \"O peão e o cavalo são peças de xadrez. O cavalo é o melhor do jogo.\"\n",
    " - jogo.txt = \"A jogada envolveu a torre, o peão e o rei.\"\n",
    " - rodeio.txt = \"O peão laçou o boi\"\n",
    " - fazenda.txt = \"Cavalo de rodeio!\"\n",
    " - policia.txt = \"Policiais o jogaram no xadrez.”"
   ]
  },
  {
   "cell_type": "markdown",
   "metadata": {},
   "source": [
    "## Removendo os stopwords \n",
    "\n",
    "(lista:\ta,\to,\te,\té,\tde,\tdo,\tno,\tsão)"
   ]
  },
  {
   "cell_type": "markdown",
   "metadata": {},
   "source": [
    "- xadrez.txt = \"peão cavalo peças xadrez cavalo melhor jogo\"\n",
    "- jogo.txt = \"jogada envolveu torre peão rei.\"\n",
    "- rodeio.txt = \"peão laçou boi\"\n",
    "- fazenda.txt = \"Cavalo rodeio\"\n",
    "- policia.txt = \"Policiais jogaram xadrez”"
   ]
  },
  {
   "cell_type": "markdown",
   "metadata": {},
   "source": [
    "## Etapa de stemming \n",
    "Utilizando o Snowball Stemmer para língua portuguesa"
   ]
  },
  {
   "cell_type": "markdown",
   "metadata": {},
   "source": [
    "- xadrez.txt = \"peã caval pec xadrez caval melhor jog\"\n",
    "- jogo.txt = \"jog envolv torr peã rei\"\n",
    "- rodeio.txt = \"peã lac boi\"\n",
    "- fazenda.txt = \"caval rodei\"\n",
    "- policia.txt = \"polic jog xadrez”"
   ]
  },
  {
   "cell_type": "markdown",
   "metadata": {},
   "source": [
    "## Matriz\tde\tincidências"
   ]
  },
  {
   "cell_type": "markdown",
   "metadata": {},
   "source": [
    "|Tokens|xadrex.txt|jogo.txt|rodeio.txt|fazenda.txt|policia.txt|\n",
    "|-----|----------|--------|----------|-----------|-----------|\n",
    "|peã|1|1|1|0|0|\n",
    "|caval|1|0|0|1|0|\n",
    "|pec|1|0|0|0|0|\n",
    "|xadrez|1|0|0|0|1|\n",
    "|melhor|1|0|0|0|0|\n",
    "|jog|0|1|0|0|1|\n",
    "|envolv|0|1|0|0|0|\n",
    "|torr|0|1|0|0|0|\n",
    "|rei|0|1|0|0|0|\n",
    "|lac|0|0|1|0|0|\n",
    "|boi|0|0|1|0|0|\n",
    "|rodei|0|0|0|1|0|\n",
    "|polic|0|0|0|0|1|"
   ]
  },
  {
   "cell_type": "markdown",
   "metadata": {},
   "source": [
    "## Índice\tbaseado\tem\tarquivo\tinvertido.\t"
   ]
  },
  {
   "cell_type": "markdown",
   "metadata": {},
   "source": [
    "|Tokens|Docs|\n",
    "|-----|----------|--------|----------|-----------|-----------|\n",
    "|peã|1, 2, 3|\n",
    "|caval|1, 4|\n",
    "|pec|1|\n",
    "|xadrez|1, 5|\n",
    "|melhor|1|\n",
    "|jog|2, 5|\n",
    "|envolv|2|\n",
    "|torr|2|\n",
    "|rei|2|\n",
    "|lac|3|\n",
    "|boi|3|\n",
    "|rodei|4|\n",
    "|polic|5|"
   ]
  },
  {
   "cell_type": "markdown",
   "metadata": {},
   "source": [
    "## Consulta booleana *(cavalo OR boi) AND NOT peão* para cada representação anterior.\t"
   ]
  },
  {
   "cell_type": "markdown",
   "metadata": {},
   "source": [
    "### Matriz de incidências"
   ]
  },
  {
   "cell_type": "markdown",
   "metadata": {},
   "source": [
    "caval = 10010 <br>\n",
    "boi   = 00100 <br>\n",
    "peã   = 11100\n",
    "\n",
    "caval **OR** boi = 10110 <br>\n",
    "**NOT** peã      = 00011 <br>\n",
    "(caval **OR** boi) **AND** (**NOT** peã) = 00010 = *fazenda.txt*"
   ]
  },
  {
   "cell_type": "markdown",
   "metadata": {},
   "source": [
    "### Índice baseado em arquivo invertido"
   ]
  },
  {
   "cell_type": "markdown",
   "metadata": {},
   "source": [
    "caval = 1, 4 <br>\n",
    "boi = 3 <br>\n",
    "peã = 1, 2, 3\n",
    "\n",
    "caval **OR** boi = 1, 3, 4 <br>\n",
    "**NOT** peã = 4, 5 <br>\n",
    "(caval **OR** boi) **AND** (**NOT** peã) = 4 = *fazenda.txt*"
   ]
  },
  {
   "cell_type": "markdown",
   "metadata": {},
   "source": [
    "### Como\tpode ser otimizada a consulta *(peão OR cavalo OR torre) AND (jogo OR xadrez)*?\t\n",
    "Realize\tas operações passo a passo\te indique as heurísticas utilizadas."
   ]
  },
  {
   "cell_type": "markdown",
   "metadata": {},
   "source": [
    "*Utilizando índice baseado em arquivo invertido*\n",
    "\n",
    "peã = 1, 2, 3 <br>\n",
    "caval = 1, 4 <br>\n",
    "torr = 2 <br>\n",
    "jog = 2, 5 <br>\n",
    "xadrez = 1, 5"
   ]
  },
  {
   "cell_type": "markdown",
   "metadata": {},
   "source": [
    "*Calculamos as estimativas para cada operação*\n",
    "\n",
    "len(caval) + len(torr) = 3 <br>\n",
    "len(peã) + len(torr) = 4 <br>\n",
    "len(jog) + len(xadrez) = 4 <br>\n",
    "len(peã) + len(caval) = 5"
   ]
  },
  {
   "cell_type": "markdown",
   "metadata": {},
   "source": [
    "*Começamos pela de menor estimativa*\n",
    "\n",
    "caval **OR** torr = 1, 2, 4 <br>\n",
    "jog **OR** xadrez = 1, 2, 5 <br>\n",
    "peã **OR** (caval **OR** torr) = 1, 2, 3, 4 <br>\n",
    "(peã **OR** (caval **OR** torr)) **AND** (jog **OR** xadrez) = 1, 2 = *xadrez.txt*, *jogo.txt*"
   ]
  }
 ],
 "metadata": {
  "celltoolbar": "Initialization Cell",
  "kernelspec": {
   "display_name": "Python 3",
   "language": "python",
   "name": "python3"
  },
  "language_info": {
   "codemirror_mode": {
    "name": "ipython",
    "version": 3
   },
   "file_extension": ".py",
   "mimetype": "text/x-python",
   "name": "python",
   "nbconvert_exporter": "python",
   "pygments_lexer": "ipython3",
   "version": "3.6.4"
  },
  "latex_envs": {
   "LaTeX_envs_menu_present": true,
   "autoclose": true,
   "autocomplete": true,
   "bibliofile": "biblio.bib",
   "cite_by": "apalike",
   "current_citInitial": 1,
   "eqLabelWithNumbers": true,
   "eqNumInitial": 1,
   "hotkeys": {
    "equation": "Ctrl-E",
    "itemize": "Ctrl-I"
   },
   "labels_anchors": false,
   "latex_user_defs": false,
   "report_style_numbering": false,
   "user_envs_cfg": false
  },
  "varInspector": {
   "cols": {
    "lenName": 16,
    "lenType": 16,
    "lenVar": 40
   },
   "kernels_config": {
    "python": {
     "delete_cmd_postfix": "",
     "delete_cmd_prefix": "del ",
     "library": "var_list.py",
     "varRefreshCmd": "print(var_dic_list())"
    },
    "r": {
     "delete_cmd_postfix": ") ",
     "delete_cmd_prefix": "rm(",
     "library": "var_list.r",
     "varRefreshCmd": "cat(var_dic_list()) "
    }
   },
   "types_to_exclude": [
    "module",
    "function",
    "builtin_function_or_method",
    "instance",
    "_Feature"
   ],
   "window_display": false
  }
 },
 "nbformat": 4,
 "nbformat_minor": 2
}
